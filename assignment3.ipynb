{
 "cells": [
  {
   "cell_type": "code",
   "execution_count": 2,
   "id": "5da73180-9cb4-43bf-86cb-0e395354b1fc",
   "metadata": {},
   "outputs": [
    {
     "name": "stdout",
     "output_type": "stream",
     "text": [
      "Hello, sahil!\n"
     ]
    }
   ],
   "source": [
    "# Q1 Create a function greet(name) that prints “Hello, [name]!”\n",
    "def greet(name):\n",
    "    print(f\"Hello, {name}!\")\n",
    "greet(\"sahil\")"
   ]
  },
  {
   "cell_type": "code",
   "execution_count": 14,
   "id": "37abd53d-a127-4739-b054-75e04aaf159f",
   "metadata": {},
   "outputs": [
    {
     "name": "stdout",
     "output_type": "stream",
     "text": [
      "sum of a and b is: 6\n"
     ]
    }
   ],
   "source": [
    "# Q2. Create a function add(a, b) that returns the sum of two numbers. Call the function with inputs.\n",
    "def sum(a,b):\n",
    "    c=a+b\n",
    "    print(\"sum of a and b is:\",c)\n",
    "sum(1,5)"
   ]
  },
  {
   "cell_type": "code",
   "execution_count": 9,
   "id": "904b13e0-54bc-4c78-b9ea-68fb0c7aefb1",
   "metadata": {},
   "outputs": [
    {
     "name": "stdout",
     "output_type": "stream",
     "text": [
      "('sahil', 23, 'tata')\n"
     ]
    }
   ],
   "source": [
    "# Q3. Create a function display(*args) that accepts multiple arguments and prints them. \n",
    "def display(*args):\n",
    "        print(args)\n",
    "display(\"sahil\",23,\"tata\")"
   ]
  },
  {
   "cell_type": "code",
   "execution_count": 11,
   "id": "580982b4-7d36-4016-9d61-d6e22d432d50",
   "metadata": {},
   "outputs": [
    {
     "name": "stdout",
     "output_type": "stream",
     "text": [
      "Name: Bob\n",
      "Age: 20\n",
      "Rollnumber: 123\n"
     ]
    }
   ],
   "source": [
    "# Q4. Create a function student_info(**kwargs) that accepts name, age, roll number as keyword arguments and prints them\n",
    "def student_info(name,age,rollnumber):\n",
    "    print(\"Name:\",name)\n",
    "    print(\"Age:\",age)\n",
    "    print(\"Rollnumber:\",rollnumber)\n",
    "student_info(name=\"Bob\", age=20, rollnumber=\"123\")"
   ]
  },
  {
   "cell_type": "code",
   "execution_count": null,
   "id": "597618bd-659b-4c0c-bf03-450849e86710",
   "metadata": {},
   "outputs": [],
   "source": []
  }
 ],
 "metadata": {
  "kernelspec": {
   "display_name": "Python 3 (ipykernel)",
   "language": "python",
   "name": "python3"
  },
  "language_info": {
   "codemirror_mode": {
    "name": "ipython",
    "version": 3
   },
   "file_extension": ".py",
   "mimetype": "text/x-python",
   "name": "python",
   "nbconvert_exporter": "python",
   "pygments_lexer": "ipython3",
   "version": "3.11.9"
  }
 },
 "nbformat": 4,
 "nbformat_minor": 5
}
