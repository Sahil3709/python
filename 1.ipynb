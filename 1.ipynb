{
 "cells": [
  {
   "cell_type": "code",
   "execution_count": 1,
   "id": "b2f377a9-ba03-4a34-9ae3-33f642dacb8c",
   "metadata": {},
   "outputs": [
    {
     "name": "stdin",
     "output_type": "stream",
     "text": [
      "Enter the first number:  4\n",
      "Enter an operator (+, -, *, /):  +\n",
      "Enter the second number:  6\n"
     ]
    },
    {
     "name": "stdout",
     "output_type": "stream",
     "text": [
      "4.0 + 6.0 = 10.0\n"
     ]
    }
   ],
   "source": [
    "# Calculator using if else\n",
    "num1 = float(input(\"Enter the first number: \"))\n",
    "operator = input(\"Enter an operator (+, -, *, /): \")\n",
    "num2 = float(input(\"Enter the second number: \"))\n",
    "\n",
    "if operator == '+':\n",
    "    result = num1 + num2\n",
    "    print(f\"{num1} + {num2} = {result}\")\n",
    "elif operator == '-':\n",
    "    result = num1 - num2\n",
    "    print(f\"{num1} - {num2} = {result}\")\n",
    "elif operator == '*':\n",
    "    result = num1 * num2\n",
    "    print(f\"{num1} * {num2} = {result}\")\n",
    "elif operator == '/':\n",
    "    if num2 != 0:  \n",
    "        result = num1 / num2\n",
    "        print(f\"{num1} / {num2} = {result}\")\n",
    "    else:\n",
    "        print(\"Error: Division by zero is not allowed.\")\n",
    "else:\n",
    "    print(\"Invalid operator. Please use +, -, *, or /.\")"
   ]
  },
  {
   "cell_type": "code",
   "execution_count": 5,
   "id": "eb71368e-cd27-4bf7-ba80-07d27e3f9ab4",
   "metadata": {},
   "outputs": [
    {
     "name": "stdout",
     "output_type": "stream",
     "text": [
      "enter the 1 if you are a male \n",
      "enter the 2 if you are female \n"
     ]
    },
    {
     "name": "stdin",
     "output_type": "stream",
     "text": [
      "Enter you gender as a number:  1\n",
      "enter you age:  23\n"
     ]
    },
    {
     "name": "stdout",
     "output_type": "stream",
     "text": [
      "you are eligible for marriage \n"
     ]
    }
   ],
   "source": [
    "# Marriage calculator using if else and loops\n",
    "print(\"enter the 1 if you are a male \\nenter the 2 if you are female \")\n",
    "g=int(input(\"Enter you gender as a number: \"))\n",
    "if g==1:\n",
    "    a=int(input(\"enter you age: \"))\n",
    "    if a>=21 and a<=100:\n",
    "        print(\"you are eligible for marriage \")\n",
    "    else:\n",
    "        print(\"you are not eligible for marriage\")\n",
    "elif g==2:\n",
    "    a=int(input(\"Enter your age: \"))\n",
    "    if a>=18 and a<=100:\n",
    "        print(\"you are eligible for marriage\")\n",
    "    else:\n",
    "        print(\"you are not eligible for marriage\")\n"
   ]
  },
  {
   "cell_type": "code",
   "execution_count": 4,
   "id": "50933b45-036e-4136-82bd-4ed3de3b163c",
   "metadata": {},
   "outputs": [
    {
     "name": "stdin",
     "output_type": "stream",
     "text": [
      "Enter total water bottles:  30\n",
      "Enter bottles you drink per day:  3\n"
     ]
    },
    {
     "name": "stdout",
     "output_type": "stream",
     "text": [
      " 1 3 bottles. 27 left.\n",
      " 2 3 bottles. 24 left.\n",
      " 3 3 bottles. 21 left.\n",
      " 4 3 bottles. 18 left.\n",
      " 5 3 bottles. 15 left.\n",
      " 6 3 bottles. 12 left.\n",
      " 7 3 bottles. 9 left.\n",
      " 8 3 bottles. 6 left.\n",
      " 9 3 bottles. 3 left.\n",
      " 10 3 bottles. 0 left.\n",
      "# No more bottles left!\n"
     ]
    }
   ],
   "source": [
    "# water bottles\n",
    "total_bottles = int(input(\"Enter total water bottles: \"))\n",
    "bottles_per_day = int(input(\"Enter bottles you drink per day: \"))\n",
    "\n",
    "day = 1\n",
    "while total_bottles > 0:\n",
    "    if total_bottles >= bottles_per_day:\n",
    "        print(f\" {day} {bottles_per_day} bottles. {total_bottles - bottles_per_day} left.\")\n",
    "        total_bottles -= bottles_per_day\n",
    "    else:\n",
    "        print(f\"{day}:{total_bottles} bottle(s). 0 left.\")\n",
    "        total_bottles = 0\n",
    "    day += 1\n",
    "\n",
    "print(\"# No more bottles left!\")"
   ]
  },
  {
   "cell_type": "code",
   "execution_count": 5,
   "id": "93d0c8ed-57f4-483f-9623-f00cab1d83bb",
   "metadata": {},
   "outputs": [
    {
     "name": "stdin",
     "output_type": "stream",
     "text": [
      "Enter total bill amount:  300\n",
      "Enter number of friends to divide:  3\n"
     ]
    },
    {
     "name": "stdout",
     "output_type": "stream",
     "text": [
      "Each person pays: ₹100.00\n"
     ]
    },
    {
     "name": "stdin",
     "output_type": "stream",
     "text": [
      "Enter tip percent (10 to 35):  10\n"
     ]
    },
    {
     "name": "stdout",
     "output_type": "stream",
     "text": [
      "Tip amount: ₹30.00\n",
      "Total bill with tip: ₹330.00\n"
     ]
    }
   ],
   "source": [
    "# bill pay\n",
    "bill_amount = float(input(\"Enter total bill amount: \"))\n",
    "friends = int(input(\"Enter number of friends to divide: \"))\n",
    "\n",
    "if friends == 0:\n",
    "    print(\"Number of friends cannot be 0.\")\n",
    "else:\n",
    "    per_person = bill_amount / friends\n",
    "    print(f\"Each person pays: ₹{per_person:.2f}\")\n",
    "\n",
    "    tip_percent = float(input(\"Enter tip percent (10 to 35): \"))\n",
    "if 10 <= tip_percent <= 35:\n",
    "        tip_amount = (bill_amount * tip_percent) / 100\n",
    "        total_with_tip = bill_amount + tip_amount\n",
    "        print(f\"Tip amount: ₹{tip_amount:.2f}\")\n",
    "        print(f\"Total bill with tip: ₹{total_with_tip:.2f}\")\n",
    "else:\n",
    "         print(\"Tip percent must be between10and35.\")"
   ]
  },
  {
   "cell_type": "code",
   "execution_count": null,
   "id": "a42a9a35-77ae-4995-b19c-4bb9ca925b66",
   "metadata": {},
   "outputs": [],
   "source": []
  }
 ],
 "metadata": {
  "kernelspec": {
   "display_name": "Python 3 (ipykernel)",
   "language": "python",
   "name": "python3"
  },
  "language_info": {
   "codemirror_mode": {
    "name": "ipython",
    "version": 3
   },
   "file_extension": ".py",
   "mimetype": "text/x-python",
   "name": "python",
   "nbconvert_exporter": "python",
   "pygments_lexer": "ipython3",
   "version": "3.11.9"
  }
 },
 "nbformat": 4,
 "nbformat_minor": 5
}
