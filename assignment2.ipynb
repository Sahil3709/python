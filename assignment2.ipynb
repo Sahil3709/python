{
 "cells": [
  {
   "cell_type": "code",
   "execution_count": 6,
   "id": "430c27ae-f5fa-4102-8d6b-bbeefeeeb202",
   "metadata": {},
   "outputs": [
    {
     "name": "stdout",
     "output_type": "stream",
     "text": [
      "Please select operation -\n",
      "1. Add\n",
      "2. Subtract\n",
      "3. Multiply\n",
      "4. Divide\n",
      "\n"
     ]
    },
    {
     "name": "stdin",
     "output_type": "stream",
     "text": [
      "select operation 1-4: 4\n",
      "Enter value a: 3\n",
      "Enter value b: 0\n"
     ]
    },
    {
     "name": "stdout",
     "output_type": "stream",
     "text": [
      "value can not divide by zero\n"
     ]
    }
   ],
   "source": [
    "# Create 4 functions for +*/- and make a calculator use function calling for calculation symbols\n",
    "def sum(a,b):\n",
    "    c=a+b\n",
    "    print(\"sum of a and b is:\",c)\n",
    "def sub(a,b):\n",
    "    c=a-b\n",
    "    print(\"subtraction of a and b is:\",c)\n",
    "def mul(a,b):\n",
    "    c=a*b\n",
    "    print(\"Multiplication of a and b is:\",c)\n",
    "def div(a,b):\n",
    "    if b==0:\n",
    "        print(\"value can not divide by zero\")\n",
    "    else:\n",
    "        c=a/b\n",
    "        print(\"divide of a and b is:\",c)\n",
    "print(\"Please select operation -\\n\"\n",
    "      \"1. Add\\n\"\n",
    "      \"2. Subtract\\n\"\n",
    "      \"3. Multiply\\n\"\n",
    "      \"4. Divide\\n\")\n",
    "select=int(input(\"select operation 1-4:\"))\n",
    "a=float(input(\"Enter value a:\"))\n",
    "b=float(input(\"Enter value b:\"))\n",
    "if select==1:\n",
    "    sum(a,b)\n",
    "elif select==2:\n",
    "    sub(a,b)\n",
    "elif select==3:\n",
    "    mul(a,b)\n",
    "elif select==4:\n",
    "    div(a,b)\n",
    "else:\n",
    "    print(\"invalid input\")"
   ]
  },
  {
   "cell_type": "code",
   "execution_count": null,
   "id": "05dae2e7-5ff2-4661-90fe-37e9a9805a7f",
   "metadata": {},
   "outputs": [],
   "source": []
  }
 ],
 "metadata": {
  "kernelspec": {
   "display_name": "Python 3 (ipykernel)",
   "language": "python",
   "name": "python3"
  },
  "language_info": {
   "codemirror_mode": {
    "name": "ipython",
    "version": 3
   },
   "file_extension": ".py",
   "mimetype": "text/x-python",
   "name": "python",
   "nbconvert_exporter": "python",
   "pygments_lexer": "ipython3",
   "version": "3.11.9"
  }
 },
 "nbformat": 4,
 "nbformat_minor": 5
}
